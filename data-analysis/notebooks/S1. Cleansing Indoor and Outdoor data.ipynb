{
 "cells": [
  {
   "cell_type": "code",
   "execution_count": 1,
   "metadata": {},
   "outputs": [],
   "source": [
    "import datetime\n",
    "import numpy\n",
    "\n",
    "import pandas as pd\n",
    "import seaborn as sns"
   ]
  },
  {
   "cell_type": "markdown",
   "metadata": {},
   "source": [
    "## Summary"
   ]
  },
  {
   "cell_type": "markdown",
   "metadata": {},
   "source": [
    "> This notebook addresses errors in the indoor/outdoor datasets: (i) **missing readings** and (ii) **timestamp corrections**. The process also outputs the following findings:\n",
    "* Indoor/outdoor sensor read temperature and humidity **every 10 mins**. \n",
    "* Some **readings were lost** probably due to network related issues.\n",
    "* **Sensors syncrhonize with each other** (i.e., they send data at exactly the same time).\n",
    "* Sensors were **turn-off** probably for **mantainance or cleansing purposes**. "
   ]
  },
  {
   "cell_type": "markdown",
   "metadata": {},
   "source": [
    "## Datasets General Characteristics"
   ]
  },
  {
   "cell_type": "code",
   "execution_count": 2,
   "metadata": {},
   "outputs": [],
   "source": [
    "indoor  = pd.read_csv(\"data/indoor.csv\")\n",
    "outdoor = pd.read_csv(\"data/outdoor.csv\")"
   ]
  },
  {
   "cell_type": "markdown",
   "metadata": {},
   "source": [
    "### Schemas"
   ]
  },
  {
   "cell_type": "code",
   "execution_count": 3,
   "metadata": {},
   "outputs": [
    {
     "data": {
      "text/html": [
       "<div>\n",
       "<style scoped>\n",
       "    .dataframe tbody tr th:only-of-type {\n",
       "        vertical-align: middle;\n",
       "    }\n",
       "\n",
       "    .dataframe tbody tr th {\n",
       "        vertical-align: top;\n",
       "    }\n",
       "\n",
       "    .dataframe thead th {\n",
       "        text-align: right;\n",
       "    }\n",
       "</style>\n",
       "<table border=\"1\" class=\"dataframe\">\n",
       "  <thead>\n",
       "    <tr style=\"text-align: right;\">\n",
       "      <th></th>\n",
       "      <th>Timestamp</th>\n",
       "      <th>Temperature</th>\n",
       "      <th>Humidity</th>\n",
       "    </tr>\n",
       "  </thead>\n",
       "  <tbody>\n",
       "    <tr>\n",
       "      <th>0</th>\n",
       "      <td>1514761200</td>\n",
       "      <td>18.3</td>\n",
       "      <td>50</td>\n",
       "    </tr>\n",
       "    <tr>\n",
       "      <th>1</th>\n",
       "      <td>1514761800</td>\n",
       "      <td>18.3</td>\n",
       "      <td>50</td>\n",
       "    </tr>\n",
       "  </tbody>\n",
       "</table>\n",
       "</div>"
      ],
      "text/plain": [
       "    Timestamp  Temperature  Humidity\n",
       "0  1514761200         18.3        50\n",
       "1  1514761800         18.3        50"
      ]
     },
     "execution_count": 3,
     "metadata": {},
     "output_type": "execute_result"
    }
   ],
   "source": [
    "indoor.head(2)"
   ]
  },
  {
   "cell_type": "code",
   "execution_count": 4,
   "metadata": {},
   "outputs": [
    {
     "data": {
      "text/html": [
       "<div>\n",
       "<style scoped>\n",
       "    .dataframe tbody tr th:only-of-type {\n",
       "        vertical-align: middle;\n",
       "    }\n",
       "\n",
       "    .dataframe tbody tr th {\n",
       "        vertical-align: top;\n",
       "    }\n",
       "\n",
       "    .dataframe thead th {\n",
       "        text-align: right;\n",
       "    }\n",
       "</style>\n",
       "<table border=\"1\" class=\"dataframe\">\n",
       "  <thead>\n",
       "    <tr style=\"text-align: right;\">\n",
       "      <th></th>\n",
       "      <th>Timestamp</th>\n",
       "      <th>Temperature</th>\n",
       "      <th>Humidity</th>\n",
       "    </tr>\n",
       "  </thead>\n",
       "  <tbody>\n",
       "    <tr>\n",
       "      <th>0</th>\n",
       "      <td>1514761200</td>\n",
       "      <td>7.7</td>\n",
       "      <td>83</td>\n",
       "    </tr>\n",
       "    <tr>\n",
       "      <th>1</th>\n",
       "      <td>1514761800</td>\n",
       "      <td>7.8</td>\n",
       "      <td>83</td>\n",
       "    </tr>\n",
       "  </tbody>\n",
       "</table>\n",
       "</div>"
      ],
      "text/plain": [
       "    Timestamp  Temperature  Humidity\n",
       "0  1514761200          7.7        83\n",
       "1  1514761800          7.8        83"
      ]
     },
     "execution_count": 4,
     "metadata": {},
     "output_type": "execute_result"
    }
   ],
   "source": [
    "outdoor.head(2)"
   ]
  },
  {
   "cell_type": "markdown",
   "metadata": {},
   "source": [
    "Both datasets have the same schema: `Temperature` values are measure in celsius degrees. `Humidity` values represent _relative humidity_ and thus are measured in percentage."
   ]
  },
  {
   "cell_type": "markdown",
   "metadata": {},
   "source": [
    "### Empty values"
   ]
  },
  {
   "cell_type": "code",
   "execution_count": 5,
   "metadata": {},
   "outputs": [
    {
     "data": {
      "text/plain": [
       "Timestamp      0\n",
       "Temperature    0\n",
       "Humidity       0\n",
       "dtype: int64"
      ]
     },
     "execution_count": 5,
     "metadata": {},
     "output_type": "execute_result"
    }
   ],
   "source": [
    "indoor.isnull().sum()"
   ]
  },
  {
   "cell_type": "code",
   "execution_count": 6,
   "metadata": {},
   "outputs": [
    {
     "data": {
      "text/plain": [
       "Timestamp      0\n",
       "Temperature    0\n",
       "Humidity       0\n",
       "dtype: int64"
      ]
     },
     "execution_count": 6,
     "metadata": {},
     "output_type": "execute_result"
    }
   ],
   "source": [
    "outdoor.isnull().sum()"
   ]
  },
  {
   "cell_type": "markdown",
   "metadata": {},
   "source": [
    "The original raw datasets does not contain empty values."
   ]
  },
  {
   "cell_type": "markdown",
   "metadata": {},
   "source": [
    "### Duration"
   ]
  },
  {
   "cell_type": "code",
   "execution_count": 7,
   "metadata": {},
   "outputs": [],
   "source": [
    "def duration(df):\n",
    "    start = datetime.datetime.fromtimestamp(df['Timestamp'].values[0] ) \n",
    "    end   = datetime.datetime.fromtimestamp(df['Timestamp'].values[-1])\n",
    "    \n",
    "    print('Start time: {}'.format(start))\n",
    "    print('End time:   {}'.format(end))\n",
    "    print('Duration:   {}'.format(end - start))"
   ]
  },
  {
   "cell_type": "code",
   "execution_count": 8,
   "metadata": {},
   "outputs": [
    {
     "name": "stdout",
     "output_type": "stream",
     "text": [
      "Start time: 2017-12-31 23:00:00\n",
      "End time:   2019-02-27 22:59:05\n",
      "Duration:   422 days, 23:59:05\n"
     ]
    }
   ],
   "source": [
    "duration(indoor)"
   ]
  },
  {
   "cell_type": "code",
   "execution_count": 9,
   "metadata": {},
   "outputs": [
    {
     "name": "stdout",
     "output_type": "stream",
     "text": [
      "Start time: 2017-12-31 23:00:00\n",
      "End time:   2019-02-27 22:59:05\n",
      "Duration:   422 days, 23:59:05\n"
     ]
    }
   ],
   "source": [
    "duration(outdoor)"
   ]
  },
  {
   "cell_type": "markdown",
   "metadata": {},
   "source": [
    "Both datasets contain data for the same temporal interval: `422 days`."
   ]
  },
  {
   "cell_type": "markdown",
   "metadata": {},
   "source": [
    "## Distribution of Temperature/Humidity Values"
   ]
  },
  {
   "cell_type": "code",
   "execution_count": 10,
   "metadata": {},
   "outputs": [],
   "source": [
    "def distribution(df, col): \n",
    "    print(df[col].describe())\n",
    "    return sns.lineplot(x='Timestamp', y=col, data=df)"
   ]
  },
  {
   "cell_type": "markdown",
   "metadata": {},
   "source": [
    "### Temperature RAW values"
   ]
  },
  {
   "cell_type": "markdown",
   "metadata": {},
   "source": [
    "#### Indoor"
   ]
  },
  {
   "cell_type": "code",
   "execution_count": 11,
   "metadata": {},
   "outputs": [
    {
     "name": "stdout",
     "output_type": "stream",
     "text": [
      "count    59321.000000\n",
      "mean        20.705088\n",
      "std          2.374757\n",
      "min         16.000000\n",
      "25%         19.000000\n",
      "50%         19.800000\n",
      "75%         22.300000\n",
      "max         29.100000\n",
      "Name: Temperature, dtype: float64\n"
     ]
    },
    {
     "data": {
      "text/plain": [
       "<matplotlib.axes._subplots.AxesSubplot at 0x7fa245fa5160>"
      ]
     },
     "execution_count": 11,
     "metadata": {},
     "output_type": "execute_result"
    },
    {
     "data": {
      "image/png": "[encoded data removed]",
      "text/plain": [
       "<Figure size 432x288 with 1 Axes>"
      ]
     },
     "metadata": {
      "needs_background": "light"
     },
     "output_type": "display_data"
    }
   ],
   "source": [
    "distribution(indoor, 'Temperature')"
   ]
  },
  {
   "cell_type": "markdown",
   "metadata": {},
   "source": [
    "#### Outdoor"
   ]
  },
  {
   "cell_type": "code",
   "execution_count": 12,
   "metadata": {},
   "outputs": [
    {
     "name": "stdout",
     "output_type": "stream",
     "text": [
      "count    60113.000000\n",
      "mean        10.321393\n",
      "std          7.692305\n",
      "min         -9.000000\n",
      "25%          4.500000\n",
      "50%          9.100000\n",
      "75%         16.100000\n",
      "max         33.600000\n",
      "Name: Temperature, dtype: float64\n"
     ]
    },
    {
     "data": {
      "text/plain": [
       "<matplotlib.axes._subplots.AxesSubplot at 0x7fa243b32470>"
      ]
     },
     "execution_count": 12,
     "metadata": {},
     "output_type": "execute_result"
    },
    {
     "data": {
      "image/png": "[encoded data removed]",
      "text/plain": [
       "<Figure size 432x288 with 1 Axes>"
      ]
     },
     "metadata": {
      "needs_background": "light"
     },
     "output_type": "display_data"
    }
   ],
   "source": [
    "distribution(outdoor, 'Temperature')"
   ]
  },
  {
   "cell_type": "markdown",
   "metadata": {},
   "source": [
    "### Humidity RAW values"
   ]
  },
  {
   "cell_type": "markdown",
   "metadata": {},
   "source": [
    "#### Indoor"
   ]
  },
  {
   "cell_type": "code",
   "execution_count": 13,
   "metadata": {},
   "outputs": [
    {
     "name": "stdout",
     "output_type": "stream",
     "text": [
      "count    59321.000000\n",
      "mean        43.716728\n",
      "std          6.663798\n",
      "min         17.000000\n",
      "25%         40.000000\n",
      "50%         44.000000\n",
      "75%         48.000000\n",
      "max         64.000000\n",
      "Name: Humidity, dtype: float64\n"
     ]
    },
    {
     "data": {
      "text/plain": [
       "<matplotlib.axes._subplots.AxesSubplot at 0x7fa245ebc828>"
      ]
     },
     "execution_count": 13,
     "metadata": {},
     "output_type": "execute_result"
    },
    {
     "data": {
      "image/png": "[encoded data removed]",
      "text/plain": [
       "<Figure size 432x288 with 1 Axes>"
      ]
     },
     "metadata": {
      "needs_background": "light"
     },
     "output_type": "display_data"
    }
   ],
   "source": [
    "distribution(indoor, 'Humidity')"
   ]
  },
  {
   "cell_type": "markdown",
   "metadata": {},
   "source": [
    "#### Outdoor"
   ]
  },
  {
   "cell_type": "code",
   "execution_count": 14,
   "metadata": {},
   "outputs": [
    {
     "name": "stdout",
     "output_type": "stream",
     "text": [
      "count    60113.000000\n",
      "mean        85.897560\n",
      "std         16.962326\n",
      "min         28.000000\n",
      "25%         76.000000\n",
      "50%         93.000000\n",
      "75%        100.000000\n",
      "max        100.000000\n",
      "Name: Humidity, dtype: float64\n"
     ]
    },
    {
     "data": {
      "text/plain": [
       "<matplotlib.axes._subplots.AxesSubplot at 0x7fa245ea2ba8>"
      ]
     },
     "execution_count": 14,
     "metadata": {},
     "output_type": "execute_result"
    },
    {
     "data": {
      "image/png": "[encoded data removed]",
      "text/plain": [
       "<Figure size 432x288 with 1 Axes>"
      ]
     },
     "metadata": {
      "needs_background": "light"
     },
     "output_type": "display_data"
    }
   ],
   "source": [
    "distribution(outdoor, 'Humidity')"
   ]
  },
  {
   "cell_type": "markdown",
   "metadata": {},
   "source": [
    "### Remarks"
   ]
  },
  {
   "cell_type": "markdown",
   "metadata": {},
   "source": [
    "The `min`, `max` and overall `distribution of values over time` of indoor and outdoor **temperature/humidity measurements are coherent** to the expected behaviour."
   ]
  },
  {
   "cell_type": "markdown",
   "metadata": {},
   "source": [
    "## Addressing Timestamp Anomalies and Missing Readings"
   ]
  },
  {
   "cell_type": "markdown",
   "metadata": {},
   "source": [
    "### Sensing frequency"
   ]
  },
  {
   "cell_type": "markdown",
   "metadata": {},
   "source": [
    "Sensors usually collect data at **frequent time intervals** (i.e., the time difference between two consecutive readings is constant)."
   ]
  },
  {
   "cell_type": "code",
   "execution_count": 15,
   "metadata": {},
   "outputs": [],
   "source": [
    "# Time difference between two consecutive timestamps. The 2dn parameter keeps differences multiple of X (default 1, i.e., all)\n",
    "def time_intervals(df, multiple=1):\n",
    "    diff = df['Timestamp'].diff()\n",
    "    sel  = diff.apply(lambda x: x%multiple==0 )\n",
    "    return diff[sel].value_counts().sort_index() "
   ]
  },
  {
   "cell_type": "code",
   "execution_count": 16,
   "metadata": {},
   "outputs": [
    {
     "data": {
      "text/plain": [
       "598.0           1\n",
       "599.0           6\n",
       "600.0       59289\n",
       "601.0           6\n",
       "602.0           1\n",
       "631.0           1\n",
       "747.0           1\n",
       "877.0           1\n",
       "945.0           1\n",
       "985.0           1\n",
       "1023.0          1\n",
       "1063.0          1\n",
       "1085.0          1\n",
       "1200.0          3\n",
       "2844.0          1\n",
       "87000.0         3\n",
       "87600.0         1\n",
       "602945.0        1\n",
       "Name: Timestamp, dtype: int64"
      ]
     },
     "execution_count": 16,
     "metadata": {},
     "output_type": "execute_result"
    }
   ],
   "source": [
    "time_intervals(indoor)"
   ]
  },
  {
   "cell_type": "code",
   "execution_count": 17,
   "metadata": {},
   "outputs": [
    {
     "data": {
      "text/plain": [
       "598.0          1\n",
       "599.0          6\n",
       "600.0      60052\n",
       "601.0          6\n",
       "602.0          1\n",
       "631.0          1\n",
       "747.0          1\n",
       "928.0          1\n",
       "985.0          1\n",
       "1023.0         1\n",
       "1063.0         1\n",
       "1085.0         1\n",
       "1200.0        26\n",
       "1303.0         1\n",
       "1800.0         4\n",
       "2172.0         1\n",
       "3600.0         1\n",
       "32142.0        1\n",
       "75466.0        1\n",
       "87000.0        4\n",
       "Name: Timestamp, dtype: int64"
      ]
     },
     "execution_count": 17,
     "metadata": {},
     "output_type": "execute_result"
    }
   ],
   "source": [
    "time_intervals(outdoor)"
   ]
  },
  {
   "cell_type": "markdown",
   "metadata": {},
   "source": [
    "As shown above, the most frequent interval in both datasets is `600`. This means that both **indoor/outdoor sensors measure temperature/humidity every 600 secs (i.e., every 10 mins)**. "
   ]
  },
  {
   "cell_type": "markdown",
   "metadata": {},
   "source": [
    "### Timestamps Correction "
   ]
  },
  {
   "cell_type": "markdown",
   "metadata": {},
   "source": [
    "Note that some intervals are numbers near `600` (e.g., `598`, `599`, `601`, `602`). This small differences might be caused by floating point innacuracy or other type of software related issues (e.g., the sensor is busy executing other operations and cannot send the measurement at exaclty 600 secs). This type of clock anomalies can be corrected by adding the missing difference to some timestamps."
   ]
  },
  {
   "cell_type": "code",
   "execution_count": 18,
   "metadata": {},
   "outputs": [],
   "source": [
    "def correct_timestamp_anomalies(df, anomalies):\n",
    "    \n",
    "    df['timestamp_diff'] = df['Timestamp'].diff()\n",
    "    \n",
    "    sel = df['timestamp_diff'].isin(anomalies)\n",
    "    for i in df[sel].index.values:\n",
    "        n = df.shape[0]-1\n",
    "        c = 600 - df.loc[i, 'timestamp_diff'] # correction\n",
    "        df.loc[i:n, 'Timestamp'] += c\n",
    "    \n",
    "    del df['timestamp_diff']\n",
    "    return df"
   ]
  },
  {
   "cell_type": "code",
   "execution_count": 19,
   "metadata": {},
   "outputs": [],
   "source": [
    "anomalies = [598, 599, 601, 602]\n",
    "indoor    = correct_timestamp_anomalies(indoor, anomalies)\n",
    "outdoor   = correct_timestamp_anomalies(outdoor, anomalies)"
   ]
  },
  {
   "cell_type": "code",
   "execution_count": 20,
   "metadata": {},
   "outputs": [
    {
     "data": {
      "text/plain": [
       "600.0       59303\n",
       "631.0           1\n",
       "747.0           1\n",
       "877.0           1\n",
       "945.0           1\n",
       "985.0           1\n",
       "1023.0          1\n",
       "1063.0          1\n",
       "1085.0          1\n",
       "1200.0          3\n",
       "2844.0          1\n",
       "87000.0         3\n",
       "87600.0         1\n",
       "602945.0        1\n",
       "Name: Timestamp, dtype: int64"
      ]
     },
     "execution_count": 20,
     "metadata": {},
     "output_type": "execute_result"
    }
   ],
   "source": [
    "time_intervals(indoor)"
   ]
  },
  {
   "cell_type": "code",
   "execution_count": 21,
   "metadata": {},
   "outputs": [
    {
     "data": {
      "text/plain": [
       "600.0      60066\n",
       "631.0          1\n",
       "747.0          1\n",
       "928.0          1\n",
       "985.0          1\n",
       "1023.0         1\n",
       "1063.0         1\n",
       "1085.0         1\n",
       "1200.0        26\n",
       "1303.0         1\n",
       "1800.0         4\n",
       "2172.0         1\n",
       "3600.0         1\n",
       "32142.0        1\n",
       "75466.0        1\n",
       "87000.0        4\n",
       "Name: Timestamp, dtype: int64"
      ]
     },
     "execution_count": 21,
     "metadata": {},
     "output_type": "execute_result"
    }
   ],
   "source": [
    "time_intervals(outdoor)"
   ]
  },
  {
   "cell_type": "markdown",
   "metadata": {},
   "source": [
    "Now the small differences in time are gone."
   ]
  },
  {
   "cell_type": "markdown",
   "metadata": {},
   "source": [
    "### Missing readings"
   ]
  },
  {
   "cell_type": "markdown",
   "metadata": {},
   "source": [
    "Note that some intervals in the previous results are multiples of `600`. This suggests that some **readings are missing**, probably due to wifi/bluetooth communication problems. "
   ]
  },
  {
   "cell_type": "code",
   "execution_count": 22,
   "metadata": {},
   "outputs": [
    {
     "data": {
      "text/plain": [
       "600.0      59303\n",
       "1200.0         3\n",
       "87000.0        3\n",
       "87600.0        1\n",
       "Name: Timestamp, dtype: int64"
      ]
     },
     "execution_count": 22,
     "metadata": {},
     "output_type": "execute_result"
    }
   ],
   "source": [
    "time_intervals(indoor, multiple=600)"
   ]
  },
  {
   "cell_type": "code",
   "execution_count": 23,
   "metadata": {},
   "outputs": [
    {
     "data": {
      "text/plain": [
       "600.0      60066\n",
       "1200.0        26\n",
       "1800.0         4\n",
       "3600.0         1\n",
       "87000.0        4\n",
       "Name: Timestamp, dtype: int64"
      ]
     },
     "execution_count": 23,
     "metadata": {},
     "output_type": "execute_result"
    }
   ],
   "source": [
    "time_intervals(outdoor, multiple=600)"
   ]
  },
  {
   "cell_type": "markdown",
   "metadata": {},
   "source": [
    "Let's insert the missing readings:"
   ]
  },
  {
   "cell_type": "code",
   "execution_count": 24,
   "metadata": {},
   "outputs": [],
   "source": [
    "def insert_missing_readings(df):\n",
    "    \n",
    "    # Intervals of reference\n",
    "    intervals = time_intervals(df, multiple=600).index.values\n",
    "    intervals = [x for x in intervals if x != 600] # Ignore 600 which is the normal interval\n",
    "    \n",
    "    df['timestamp_diff'] = df['Timestamp'].diff()\n",
    "    sel = df['timestamp_diff'].isin(intervals)\n",
    "    \n",
    "    for i, row in df[sel].iterrows():\n",
    "        lim = int(row['timestamp_diff']/600)\n",
    "        ts  = df.loc[i-1, 'Timestamp']\n",
    "        for k in range(1, lim):\n",
    "            df = df.append({'Timestamp': ts + 600*k}, ignore_index=True)\n",
    "            \n",
    "    df = df.sort_values(by='Timestamp').reset_index()\n",
    "    del df['index']\n",
    "    del df['timestamp_diff']\n",
    "    \n",
    "    df['Timestamp'] = df['Timestamp'].astype(int)\n",
    "    return df"
   ]
  },
  {
   "cell_type": "code",
   "execution_count": 25,
   "metadata": {},
   "outputs": [],
   "source": [
    "indoor  = insert_missing_readings(indoor)\n",
    "outdoor = insert_missing_readings(outdoor)"
   ]
  },
  {
   "cell_type": "code",
   "execution_count": 26,
   "metadata": {},
   "outputs": [
    {
     "data": {
      "text/plain": [
       "600.0       59890\n",
       "631.0           1\n",
       "747.0           1\n",
       "877.0           1\n",
       "945.0           1\n",
       "985.0           1\n",
       "1023.0          1\n",
       "1063.0          1\n",
       "1085.0          1\n",
       "2844.0          1\n",
       "602945.0        1\n",
       "Name: Timestamp, dtype: int64"
      ]
     },
     "execution_count": 26,
     "metadata": {},
     "output_type": "execute_result"
    }
   ],
   "source": [
    "time_intervals(indoor)"
   ]
  },
  {
   "cell_type": "code",
   "execution_count": 27,
   "metadata": {},
   "outputs": [
    {
     "data": {
      "text/plain": [
       "600.0      60716\n",
       "631.0          1\n",
       "747.0          1\n",
       "928.0          1\n",
       "985.0          1\n",
       "1023.0         1\n",
       "1063.0         1\n",
       "1085.0         1\n",
       "1303.0         1\n",
       "2172.0         1\n",
       "32142.0        1\n",
       "75466.0        1\n",
       "Name: Timestamp, dtype: int64"
      ]
     },
     "execution_count": 27,
     "metadata": {},
     "output_type": "execute_result"
    }
   ],
   "source": [
    "time_intervals(outdoor)"
   ]
  },
  {
   "cell_type": "markdown",
   "metadata": {},
   "source": [
    "As you can see above, there are no longer missing readings (i.e., intervals `1200`, `1800`, `3600`, `87000` and `87600` are gone)."
   ]
  },
  {
   "cell_type": "markdown",
   "metadata": {},
   "source": [
    "### Remarks\n"
   ]
  },
  {
   "cell_type": "markdown",
   "metadata": {},
   "source": [
    "Note that **some intervals repeat in both datasets** exaclty the same number of times:"
   ]
  },
  {
   "cell_type": "code",
   "execution_count": 28,
   "metadata": {},
   "outputs": [
    {
     "data": {
      "text/plain": [
       "[631.0, 747.0, 985.0, 1023.0, 1063.0, 1085.0]"
      ]
     },
     "execution_count": 28,
     "metadata": {},
     "output_type": "execute_result"
    }
   ],
   "source": [
    "indoor_intervals  = set(time_intervals(indoor).index.values)\n",
    "outdoor_intervals = set(time_intervals(outdoor).index.values)\n",
    "\n",
    "intersection = list(indoor_intervals & outdoor_intervals)\n",
    "intersection.sort()\n",
    "intersection = [x for x in intersection if x != 600]   # Ignore interval 600, which is the expected value\n",
    "intersection"
   ]
  },
  {
   "cell_type": "markdown",
   "metadata": {},
   "source": [
    "Let's see when this happens:"
   ]
  },
  {
   "cell_type": "code",
   "execution_count": 29,
   "metadata": {},
   "outputs": [],
   "source": [
    "def intervals_timestamps(df, intervals):\n",
    "    df = df.copy()\n",
    "    df['timestamp_diff'] = df['Timestamp'].diff()\n",
    "    sel  = df['timestamp_diff'].isin( intervals )\n",
    "    cols = ['Timestamp', 'timestamp_diff']\n",
    "    df = df[sel][cols]\n",
    "    df.index = pd.to_datetime(df['Timestamp'], unit='s')\n",
    "    return df"
   ]
  },
  {
   "cell_type": "code",
   "execution_count": 30,
   "metadata": {},
   "outputs": [
    {
     "data": {
      "text/html": [
       "<div>\n",
       "<style scoped>\n",
       "    .dataframe tbody tr th:only-of-type {\n",
       "        vertical-align: middle;\n",
       "    }\n",
       "\n",
       "    .dataframe tbody tr th {\n",
       "        vertical-align: top;\n",
       "    }\n",
       "\n",
       "    .dataframe thead th {\n",
       "        text-align: right;\n",
       "    }\n",
       "</style>\n",
       "<table border=\"1\" class=\"dataframe\">\n",
       "  <thead>\n",
       "    <tr style=\"text-align: right;\">\n",
       "      <th></th>\n",
       "      <th>Timestamp</th>\n",
       "      <th>timestamp_diff</th>\n",
       "    </tr>\n",
       "    <tr>\n",
       "      <th>Timestamp</th>\n",
       "      <th></th>\n",
       "      <th></th>\n",
       "    </tr>\n",
       "  </thead>\n",
       "  <tbody>\n",
       "    <tr>\n",
       "      <th>2018-01-18 00:28:05</th>\n",
       "      <td>1516235285</td>\n",
       "      <td>1085.0</td>\n",
       "    </tr>\n",
       "    <tr>\n",
       "      <th>2018-04-29 11:40:32</th>\n",
       "      <td>1525002032</td>\n",
       "      <td>747.0</td>\n",
       "    </tr>\n",
       "    <tr>\n",
       "      <th>2018-11-19 12:23:48</th>\n",
       "      <td>1542630228</td>\n",
       "      <td>985.0</td>\n",
       "    </tr>\n",
       "    <tr>\n",
       "      <th>2018-11-24 09:04:19</th>\n",
       "      <td>1543050259</td>\n",
       "      <td>631.0</td>\n",
       "    </tr>\n",
       "    <tr>\n",
       "      <th>2018-12-01 00:42:02</th>\n",
       "      <td>1543624922</td>\n",
       "      <td>1063.0</td>\n",
       "    </tr>\n",
       "    <tr>\n",
       "      <th>2019-02-11 07:59:05</th>\n",
       "      <td>1549871945</td>\n",
       "      <td>1023.0</td>\n",
       "    </tr>\n",
       "  </tbody>\n",
       "</table>\n",
       "</div>"
      ],
      "text/plain": [
       "                      Timestamp  timestamp_diff\n",
       "Timestamp                                      \n",
       "2018-01-18 00:28:05  1516235285          1085.0\n",
       "2018-04-29 11:40:32  1525002032           747.0\n",
       "2018-11-19 12:23:48  1542630228           985.0\n",
       "2018-11-24 09:04:19  1543050259           631.0\n",
       "2018-12-01 00:42:02  1543624922          1063.0\n",
       "2019-02-11 07:59:05  1549871945          1023.0"
      ]
     },
     "execution_count": 30,
     "metadata": {},
     "output_type": "execute_result"
    }
   ],
   "source": [
    "intervals_timestamps(indoor, intersection)"
   ]
  },
  {
   "cell_type": "code",
   "execution_count": 31,
   "metadata": {},
   "outputs": [
    {
     "data": {
      "text/html": [
       "<div>\n",
       "<style scoped>\n",
       "    .dataframe tbody tr th:only-of-type {\n",
       "        vertical-align: middle;\n",
       "    }\n",
       "\n",
       "    .dataframe tbody tr th {\n",
       "        vertical-align: top;\n",
       "    }\n",
       "\n",
       "    .dataframe thead th {\n",
       "        text-align: right;\n",
       "    }\n",
       "</style>\n",
       "<table border=\"1\" class=\"dataframe\">\n",
       "  <thead>\n",
       "    <tr style=\"text-align: right;\">\n",
       "      <th></th>\n",
       "      <th>Timestamp</th>\n",
       "      <th>timestamp_diff</th>\n",
       "    </tr>\n",
       "    <tr>\n",
       "      <th>Timestamp</th>\n",
       "      <th></th>\n",
       "      <th></th>\n",
       "    </tr>\n",
       "  </thead>\n",
       "  <tbody>\n",
       "    <tr>\n",
       "      <th>2018-01-18 00:28:05</th>\n",
       "      <td>1516235285</td>\n",
       "      <td>1085.0</td>\n",
       "    </tr>\n",
       "    <tr>\n",
       "      <th>2018-04-29 11:40:32</th>\n",
       "      <td>1525002032</td>\n",
       "      <td>747.0</td>\n",
       "    </tr>\n",
       "    <tr>\n",
       "      <th>2018-11-19 12:23:48</th>\n",
       "      <td>1542630228</td>\n",
       "      <td>985.0</td>\n",
       "    </tr>\n",
       "    <tr>\n",
       "      <th>2018-11-24 09:04:19</th>\n",
       "      <td>1543050259</td>\n",
       "      <td>631.0</td>\n",
       "    </tr>\n",
       "    <tr>\n",
       "      <th>2018-12-01 00:42:02</th>\n",
       "      <td>1543624922</td>\n",
       "      <td>1063.0</td>\n",
       "    </tr>\n",
       "    <tr>\n",
       "      <th>2019-02-11 07:59:05</th>\n",
       "      <td>1549871945</td>\n",
       "      <td>1023.0</td>\n",
       "    </tr>\n",
       "  </tbody>\n",
       "</table>\n",
       "</div>"
      ],
      "text/plain": [
       "                      Timestamp  timestamp_diff\n",
       "Timestamp                                      \n",
       "2018-01-18 00:28:05  1516235285          1085.0\n",
       "2018-04-29 11:40:32  1525002032           747.0\n",
       "2018-11-19 12:23:48  1542630228           985.0\n",
       "2018-11-24 09:04:19  1543050259           631.0\n",
       "2018-12-01 00:42:02  1543624922          1063.0\n",
       "2019-02-11 07:59:05  1549871945          1023.0"
      ]
     },
     "execution_count": 31,
     "metadata": {},
     "output_type": "execute_result"
    }
   ],
   "source": [
    "intervals_timestamps(outdoor, intersection)"
   ]
  },
  {
   "cell_type": "markdown",
   "metadata": {},
   "source": [
    "Note how these intervals happen exaclty at the same time. This **evidence suggests that both indoor/outdoor sensors are synchronized some how** (e.g., there is a central device in the house responsable of collecting and sending the data to a remote server). This knowledge can be used for cleaning further the datasets, for instance with linear regresion. Yet, this is out of the scope of this notebook."
   ]
  },
  {
   "cell_type": "markdown",
   "metadata": {},
   "source": [
    "Also note than sensors were disconnected at different moments:"
   ]
  },
  {
   "cell_type": "code",
   "execution_count": 32,
   "metadata": {},
   "outputs": [],
   "source": [
    "def list_difference(l1, l2):\n",
    "    diff = [ e for e in l1 if e not in l2 and e != 600 ]\n",
    "    diff.sort()\n",
    "    return diff"
   ]
  },
  {
   "cell_type": "code",
   "execution_count": 33,
   "metadata": {},
   "outputs": [
    {
     "data": {
      "text/html": [
       "<div>\n",
       "<style scoped>\n",
       "    .dataframe tbody tr th:only-of-type {\n",
       "        vertical-align: middle;\n",
       "    }\n",
       "\n",
       "    .dataframe tbody tr th {\n",
       "        vertical-align: top;\n",
       "    }\n",
       "\n",
       "    .dataframe thead th {\n",
       "        text-align: right;\n",
       "    }\n",
       "</style>\n",
       "<table border=\"1\" class=\"dataframe\">\n",
       "  <thead>\n",
       "    <tr style=\"text-align: right;\">\n",
       "      <th></th>\n",
       "      <th>Timestamp</th>\n",
       "      <th>timestamp_diff</th>\n",
       "    </tr>\n",
       "    <tr>\n",
       "      <th>Timestamp</th>\n",
       "      <th></th>\n",
       "      <th></th>\n",
       "    </tr>\n",
       "  </thead>\n",
       "  <tbody>\n",
       "    <tr>\n",
       "      <th>2018-06-14 17:59:37</th>\n",
       "      <td>1528999177</td>\n",
       "      <td>602945.0</td>\n",
       "    </tr>\n",
       "    <tr>\n",
       "      <th>2018-11-04 17:14:14</th>\n",
       "      <td>1541351654</td>\n",
       "      <td>877.0</td>\n",
       "    </tr>\n",
       "    <tr>\n",
       "      <th>2018-11-05 12:49:59</th>\n",
       "      <td>1541422199</td>\n",
       "      <td>945.0</td>\n",
       "    </tr>\n",
       "    <tr>\n",
       "      <th>2018-11-05 13:47:23</th>\n",
       "      <td>1541425643</td>\n",
       "      <td>2844.0</td>\n",
       "    </tr>\n",
       "  </tbody>\n",
       "</table>\n",
       "</div>"
      ],
      "text/plain": [
       "                      Timestamp  timestamp_diff\n",
       "Timestamp                                      \n",
       "2018-06-14 17:59:37  1528999177        602945.0\n",
       "2018-11-04 17:14:14  1541351654           877.0\n",
       "2018-11-05 12:49:59  1541422199           945.0\n",
       "2018-11-05 13:47:23  1541425643          2844.0"
      ]
     },
     "execution_count": 33,
     "metadata": {},
     "output_type": "execute_result"
    }
   ],
   "source": [
    "intervals_timestamps(\n",
    "    indoor, \n",
    "    list_difference(indoor_intervals, intersection)\n",
    ")"
   ]
  },
  {
   "cell_type": "code",
   "execution_count": 34,
   "metadata": {},
   "outputs": [
    {
     "data": {
      "text/html": [
       "<div>\n",
       "<style scoped>\n",
       "    .dataframe tbody tr th:only-of-type {\n",
       "        vertical-align: middle;\n",
       "    }\n",
       "\n",
       "    .dataframe tbody tr th {\n",
       "        vertical-align: top;\n",
       "    }\n",
       "\n",
       "    .dataframe thead th {\n",
       "        text-align: right;\n",
       "    }\n",
       "</style>\n",
       "<table border=\"1\" class=\"dataframe\">\n",
       "  <thead>\n",
       "    <tr style=\"text-align: right;\">\n",
       "      <th></th>\n",
       "      <th>Timestamp</th>\n",
       "      <th>timestamp_diff</th>\n",
       "    </tr>\n",
       "    <tr>\n",
       "      <th>Timestamp</th>\n",
       "      <th></th>\n",
       "      <th></th>\n",
       "    </tr>\n",
       "  </thead>\n",
       "  <tbody>\n",
       "    <tr>\n",
       "      <th>2018-06-11 16:26:00</th>\n",
       "      <td>1528734360</td>\n",
       "      <td>928.0</td>\n",
       "    </tr>\n",
       "    <tr>\n",
       "      <th>2018-06-11 17:22:12</th>\n",
       "      <td>1528737732</td>\n",
       "      <td>2172.0</td>\n",
       "    </tr>\n",
       "    <tr>\n",
       "      <th>2018-06-12 10:03:55</th>\n",
       "      <td>1528797835</td>\n",
       "      <td>1303.0</td>\n",
       "    </tr>\n",
       "    <tr>\n",
       "      <th>2018-06-13 05:49:37</th>\n",
       "      <td>1528868977</td>\n",
       "      <td>32142.0</td>\n",
       "    </tr>\n",
       "    <tr>\n",
       "      <th>2018-11-05 13:57:23</th>\n",
       "      <td>1541426243</td>\n",
       "      <td>75466.0</td>\n",
       "    </tr>\n",
       "  </tbody>\n",
       "</table>\n",
       "</div>"
      ],
      "text/plain": [
       "                      Timestamp  timestamp_diff\n",
       "Timestamp                                      \n",
       "2018-06-11 16:26:00  1528734360           928.0\n",
       "2018-06-11 17:22:12  1528737732          2172.0\n",
       "2018-06-12 10:03:55  1528797835          1303.0\n",
       "2018-06-13 05:49:37  1528868977         32142.0\n",
       "2018-11-05 13:57:23  1541426243         75466.0"
      ]
     },
     "execution_count": 34,
     "metadata": {},
     "output_type": "execute_result"
    }
   ],
   "source": [
    "intervals_timestamps(\n",
    "    outdoor, \n",
    "    list_difference(outdoor_intervals, intersection)\n",
    ")"
   ]
  },
  {
   "cell_type": "markdown",
   "metadata": {},
   "source": [
    "The indoor and outdoor sensors were disconnected 4 and 5 times, respectively. Note how the dates are closely related (`2018-06-11`, `2018-11-05`). This suggests that **sensors were disconnected for cleansing or mainteinance purposes**."
   ]
  },
  {
   "cell_type": "markdown",
   "metadata": {},
   "source": [
    "## Storage"
   ]
  },
  {
   "cell_type": "code",
   "execution_count": 35,
   "metadata": {},
   "outputs": [],
   "source": [
    "indoor.to_csv ('data/cleaned/indoor-cleaned.csv',  index=False)\n",
    "outdoor.to_csv('data/cleaned/outdoor-cleaned.csv', index=False)"
   ]
  },
  {
   "cell_type": "markdown",
   "metadata": {},
   "source": [
    "## ~The End"
   ]
  }
 ],
 "metadata": {
  "kernelspec": {
   "display_name": "Python 3",
   "language": "python",
   "name": "python3"
  },
  "language_info": {
   "codemirror_mode": {
    "name": "ipython",
    "version": 3
   },
   "file_extension": ".py",
   "mimetype": "text/x-python",
   "name": "python",
   "nbconvert_exporter": "python",
   "pygments_lexer": "ipython3",
   "version": "3.7.3"
  }
 },
 "nbformat": 4,
 "nbformat_minor": 2
}
